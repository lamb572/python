{
 "cells": [
  {
   "cell_type": "code",
   "execution_count": 138,
   "metadata": {},
   "outputs": [],
   "source": [
    "def player_pick():\n",
    "    #player 1 chooses which piece they would like to be\n",
    "    #function sets player1 and player2\n",
    "    c = False\n",
    "    while c == False:\n",
    "        P1c = input(\"Player 1 Please choose 'X' or 'O': \")\n",
    "        P1c = P1c.upper()\n",
    "        if P1c == 'X' or P1c == 'O':\n",
    "            c = True\n",
    "            if P1c == 'X':\n",
    "                P2c = 'O'\n",
    "            else:\n",
    "                P2c = 'X'\n",
    "        else:\n",
    "            print('Incorrect input!')\n",
    "    \n",
    "    \n",
    "    return P1c,P2c\n",
    "        \n",
    "        \n",
    "    "
   ]
  },
  {
   "cell_type": "code",
   "execution_count": 140,
   "metadata": {},
   "outputs": [],
   "source": [
    "def first_move():\n",
    "    import random\n",
    "    players=[1,2]\n",
    "    random.shuffle(players)\n",
    "    first=players[0]\n",
    "    return(first)"
   ]
  },
  {
   "cell_type": "code",
   "execution_count": 9,
   "metadata": {},
   "outputs": [],
   "source": [
    "from IPython.display import clear_output\n",
    "def display_board(board):\n",
    "    clear_output()  # Remember, this only works in jupyter!\n",
    "    \n",
    "    print('   |   |')\n",
    "    print(' ' + board[7] + ' | ' + board[8] + ' | ' + board[9])\n",
    "    print('   |   |')\n",
    "    print('-----------')\n",
    "    print('   |   |')\n",
    "    print(' ' + board[4] + ' | ' + board[5] + ' | ' + board[6])\n",
    "    print('   |   |')\n",
    "    print('-----------')\n",
    "    print('   |   |')\n",
    "    print(' ' + board[1] + ' | ' + board[2] + ' | ' + board[3])\n",
    "    print('   |   |')\n",
    "    \n",
    "    "
   ]
  },
  {
   "cell_type": "code",
   "execution_count": 208,
   "metadata": {},
   "outputs": [],
   "source": [
    "def player_move(playerno,playerchoice,moves,playermove):\n",
    "    acptrange = range(1,10)\n",
    "    choice ='WRONG'\n",
    "    within_range = False\n",
    "    \n",
    "    \n",
    "    while choice.isdigit() == False or within_range==False:\n",
    "        choice = input(f'player {playerno} choose your move(1-9):')\n",
    "        if choice in playermove:\n",
    "            print('Move Already taken')\n",
    "        else:\n",
    "            #digit check\n",
    "            if choice.isdigit() == False:\n",
    "                print('sorry not a digit!')\n",
    "            \n",
    "            #range check\n",
    "            if choice.isdigit() == True:\n",
    "                if int(choice) in acptrange:\n",
    "                    within_range = True\n",
    "                else:\n",
    "                    print(\"Sorry, you were out of acceptable range(1-9)\")\n",
    "                    within_range = False\n",
    "     \n",
    "    location = int(choice)\n",
    "    moves[location] = (playerchoice)\n",
    "    display_board(moves)\n",
    "    return choice"
   ]
  },
  {
   "cell_type": "code",
   "execution_count": 256,
   "metadata": {},
   "outputs": [],
   "source": [
    "def yes_no():\n",
    "    n = False\n",
    "    yon= ''\n",
    "    while n == False :\n",
    "        yon =input('Are you ready to play? Yes or No: ')\n",
    "        yon = yon.capitalize()\n",
    "        \n",
    "        if yon == 'Yes' or yon == 'No':\n",
    "            n = True\n",
    "            if yon == 'Yes':\n",
    "                return True\n",
    "            else:\n",
    "                return False\n",
    "     "
   ]
  },
  {
   "cell_type": "code",
   "execution_count": 257,
   "metadata": {},
   "outputs": [],
   "source": [
    "def yes_no_again():\n",
    "    n = False\n",
    "    yon= ''\n",
    "    while n == False :\n",
    "        yon =input('would you like to play again? Yes or No: ')\n",
    "        yon = yon.capitalize()\n",
    "        \n",
    "        if yon == 'Yes' or yon == 'No':\n",
    "            n = True\n",
    "            if yon == 'Yes':\n",
    "                return True\n",
    "            else:\n",
    "                return False"
   ]
  },
  {
   "cell_type": "code",
   "execution_count": 243,
   "metadata": {},
   "outputs": [
    {
     "name": "stdout",
     "output_type": "stream",
     "text": [
      "   |   |\n",
      " X | O | X\n",
      "   |   |\n",
      "-----------\n",
      "   |   |\n",
      " O | X | O\n",
      "   |   |\n",
      "-----------\n",
      "   |   |\n",
      " X | O | X\n",
      "   |   |\n"
     ]
    }
   ],
   "source": [
    "test_board = ['#','X','O','X','O','X','O','X','O','X']\n",
    "test_board2= ['#',' ',' ',' ',' ',' ',' ','X',' ',' ']\n",
    "display_board(test_board)"
   ]
  },
  {
   "cell_type": "code",
   "execution_count": 244,
   "metadata": {},
   "outputs": [],
   "source": [
    "def win_check(board,mark):\n",
    "    \n",
    "    return ((board[7] == mark and board[8] == mark and board[9] == mark) or # across the top\n",
    "    (board[4] == mark and board[5] == mark and board[6] == mark) or # across the middle\n",
    "    (board[1] == mark and board[2] == mark and board[3] == mark) or # across the bottom\n",
    "    (board[7] == mark and board[4] == mark and board[1] == mark) or # down the left\n",
    "    (board[8] == mark and board[5] == mark and board[2] == mark) or # down the middle\n",
    "    (board[9] == mark and board[6] == mark and board[3] == mark) or # down the right side\n",
    "    (board[7] == mark and board[5] == mark and board[3] == mark) or # diagonal\n",
    "    (board[9] == mark and board[5] == mark and board[1] == mark)) # diagonal"
   ]
  },
  {
   "cell_type": "code",
   "execution_count": 265,
   "metadata": {},
   "outputs": [],
   "source": [
    "def game(): \n",
    "    #import list\n",
    "    from IPython.display import clear_output\n",
    "    import time\n",
    "    \n",
    "    \n",
    "    #player variables\n",
    "    playerno = 0\n",
    "    playmore = True\n",
    "    firstgo = True\n",
    "    \n",
    "    \n",
    "    #function for players choice\n",
    "    player1_choice, player2_choice = player_pick() \n",
    "    \n",
    "    \n",
    "    while playmore == True:\n",
    "        \n",
    "        # asks if the player is ready\n",
    "        if firstgo == True:\n",
    "            playmore = yes_no()\n",
    "            if playmore == False:\n",
    "                break\n",
    "            firstgo = False\n",
    "        \n",
    "        # game variables \n",
    "        gameboard= ['#',' ',' ',' ',' ',' ',' ',' ',' ',' ']\n",
    "        moves = 0\n",
    "        playermove = []\n",
    "        win = False\n",
    "        \n",
    "        #function that picks who goes first(shuffles between one and two)\n",
    "        playerno = first_move()\n",
    "       \n",
    "        clear_output()\n",
    "\n",
    "        print(f'PLAYER{playerno} goes FIRST!')\n",
    "        time.sleep(1.5)\n",
    "\n",
    "\n",
    "\n",
    "\n",
    "        #function for displaying board\n",
    "        display_board(gameboard)\n",
    "\n",
    "        print(f'Player1 is: {player1_choice}')\n",
    "        print(f'Player2 is: {player2_choice}')\n",
    "\n",
    "        while moves < 9 and win == False :\n",
    "            if playerno == 2:\n",
    "                playermove += player_move(playerno,player2_choice,gameboard,playermove)# fucntion for player move\n",
    "                win = win_check(gameboard,player2_choice)\n",
    "                playerno = 1\n",
    "                moves += 1\n",
    "                print(f'Player1 is: {player1_choice}')\n",
    "                print(f'Player2 is: {player2_choice}')\n",
    "\n",
    "\n",
    "            elif playerno == 1:\n",
    "                playermove += player_move(playerno,player1_choice,gameboard,playermove)# fucntion for player move\n",
    "                win = win_check(gameboard,player1_choice)\n",
    "                playerno = 2\n",
    "                moves += 1\n",
    "                print(f'Player1 is: {player1_choice}')\n",
    "                print(f'Player2 is: {player2_choice}')\n",
    "\n",
    "        clear_output()\n",
    "\n",
    "        if win_check(gameboard,player1_choice) == True:\n",
    "            print('PLayer 1 is the WINNER!')\n",
    "        elif win_check(gameboard,player2_choice) == True:\n",
    "            print(' Player 2 is the WINNER!')\n",
    "        else:\n",
    "            print('Ohhhh Draw!')\n",
    "        \n",
    "        # asks the player to play again        \n",
    "        playmore = yes_no_again()\n"
   ]
  },
  {
   "cell_type": "code",
   "execution_count": 264,
   "metadata": {},
   "outputs": [
    {
     "name": "stdout",
     "output_type": "stream",
     "text": [
      " Player 2 is the WINNER!\n",
      "would you like to play again? Yes or No: no\n"
     ]
    }
   ],
   "source": [
    "game()"
   ]
  },
  {
   "cell_type": "code",
   "execution_count": null,
   "metadata": {},
   "outputs": [],
   "source": []
  }
 ],
 "metadata": {
  "kernelspec": {
   "display_name": "Python 3",
   "language": "python",
   "name": "python3"
  },
  "language_info": {
   "codemirror_mode": {
    "name": "ipython",
    "version": 3
   },
   "file_extension": ".py",
   "mimetype": "text/x-python",
   "name": "python",
   "nbconvert_exporter": "python",
   "pygments_lexer": "ipython3",
   "version": "3.7.6"
  }
 },
 "nbformat": 4,
 "nbformat_minor": 4
}
